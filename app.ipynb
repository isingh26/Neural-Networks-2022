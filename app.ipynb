{ 
     "cell_type": "code",\
      "source": [
        "from fastai.vision.all import *\n",
        "from fastai.vision.widgets import *\n",
        "\n",
        "learn_inf = load_learner('export.pkl')\n",
        "\n",
        "btn_upload = widgets.FileUpload()\n",
        "\n",
        "btn_run = widgets.Button(description='Classify')\n",
        "\n",
        "out_pl = widgets.Output()\n",
        "\n",
        "lbl_pred = widgets.Label()\n",
        "\n",
        "def on_click_classify(change):\n",
        "    img = PILImage.create(btn_upload.data[-1])\n",
        "    out_pl.clear_output()\n",
        "    with out_pl: display(img.to_thumb(128,128))\n",
        "    pred,pred_idx,probs = learn_inf.predict(img)\n",
        "    lbl_pred.value = f'Prediction: {pred}; Probability: {probs[pred_idx]:.04f}'\n",
        "\n",
        "btn_run.on_click(on_click_classify)\n",
        "\n",
        "VBox([widgets.Label('Upload an image of the feline/canine you want to identify'), \n",
        "      btn_upload, btn_run, out_pl, lbl_pred])"
      ],
      "metadata": {
        "colab": {
          "base_uri": "https://localhost:8080/",
          "height": 273,
          "referenced_widgets": [
            "c7f7b1d99f00427a8b353383e310e4c5",
            "dfc416f49e1f4dabb8778c441c093688",
            "643520570775430685a4aacf2b200b2e",
            "7c77fa3e7df44b2ea456e7790194e7e8",
            "14350b909ec34752b08e672cd3fa008b",
            "6eadbae378fe4da581d45ca8038a57a0",
            "89b40e5d55974667b24a3b60897c4491",
            "ce73378fe4bb4f5890f947df680480fc",
            "6c329efff6664bbf8ebf5f0da4294287",
            "7512e8ab1de14c8ea8787e82796690ed",
            "54a2f07dd73e4cbaaa832bf7411d7106",
            "6551d1be3cda4cea9cf6f2b45387081d",
            "6112ad602265401f88700f52f9925832",
            "ee70e71bc320420b898d35331eb5ba64",
            "21d4c33b107f4e63a4dcbb0153a1f975",
            "34d215d2d2f741fc9c426f9cf97efab0"
          ]
        },
        "id": "XoqJfWrrKmy5",
        "outputId": "f4154735-e90d-4152-86bb-f0ef4939e6ad"
      },
      "execution_count": 28,
      "outputs": [
        {
          "output_type": "display_data",
          "data": {
            "text/plain": [
              "VBox(children=(Label(value='Upload an image of the feline/canine you want to identify'), FileUpload(value={}, …"
            ],
            "application/vnd.jupyter.widget-view+json": {
              "version_major": 2,
              "version_minor": 0,
              "model_id": "c7f7b1d99f00427a8b353383e310e4c5"
            }
          },
          "metadata": {}
        },
        {
          "output_type": "display_data",
          "data": {
            "text/plain": [
              "<IPython.core.display.HTML object>"
            ],
            "text/html": [
              "\n",
              "<style>\n",
              "    /* Turns off some styling */\n",
              "    progress {\n",
              "        /* gets rid of default border in Firefox and Opera. */\n",
              "        border: none;\n",
              "        /* Needs to be in here for Safari polyfill so background images work as expected. */\n",
              "        background-size: auto;\n",
              "    }\n",
              "    progress:not([value]), progress:not([value])::-webkit-progress-bar {\n",
              "        background: repeating-linear-gradient(45deg, #7e7e7e, #7e7e7e 10px, #5c5c5c 10px, #5c5c5c 20px);\n",
              "    }\n",
              "    .progress-bar-interrupted, .progress-bar-interrupted::-webkit-progress-bar {\n",
              "        background: #F44336;\n",
              "    }\n",
              "</style>\n"
            ]
          },
          "metadata": {}
        },
        {
          "output_type": "display_data",
          "data": {
            "text/plain": [
              "<IPython.core.display.HTML object>"
            ],
            "text/html": []
          },
          "metadata": {}
        },
        {
          "output_type": "display_data",
          "data": {
            "text/plain": [
              "<IPython.core.display.HTML object>"
            ],
            "text/html": [
              "\n",
              "<style>\n",
              "    /* Turns off some styling */\n",
              "    progress {\n",
              "        /* gets rid of default border in Firefox and Opera. */\n",
              "        border: none;\n",
              "        /* Needs to be in here for Safari polyfill so background images work as expected. */\n",
              "        background-size: auto;\n",
              "    }\n",
              "    progress:not([value]), progress:not([value])::-webkit-progress-bar {\n",
              "        background: repeating-linear-gradient(45deg, #7e7e7e, #7e7e7e 10px, #5c5c5c 10px, #5c5c5c 20px);\n",
              "    }\n",
              "    .progress-bar-interrupted, .progress-bar-interrupted::-webkit-progress-bar {\n",
              "        background: #F44336;\n",
              "    }\n",
              "</style>\n"
            ]
          },
          "metadata": {}
        },
        {
          "output_type": "display_data",
          "data": {
            "text/plain": [
              "<IPython.core.display.HTML object>"
            ],
            "text/html": []
          },
          "metadata": {}
        },
        {
          "output_type": "display_data",
          "data": {
            "text/plain": [
              "<IPython.core.display.HTML object>"
            ],
            "text/html": [
              "\n",
              "<style>\n",
              "    /* Turns off some styling */\n",
              "    progress {\n",
              "        /* gets rid of default border in Firefox and Opera. */\n",
              "        border: none;\n",
              "        /* Needs to be in here for Safari polyfill so background images work as expected. */\n",
              "        background-size: auto;\n",
              "    }\n",
              "    progress:not([value]), progress:not([value])::-webkit-progress-bar {\n",
              "        background: repeating-linear-gradient(45deg, #7e7e7e, #7e7e7e 10px, #5c5c5c 10px, #5c5c5c 20px);\n",
              "    }\n",
              "    .progress-bar-interrupted, .progress-bar-interrupted::-webkit-progress-bar {\n",
              "        background: #F44336;\n",
              "    }\n",
              "</style>\n"
            ]
          },
          "metadata": {}
        },
        {
          "output_type": "display_data",
          "data": {
            "text/plain": [
              "<IPython.core.display.HTML object>"
            ],
            "text/html": []
          },
          "metadata": {}
        },
        {
          "output_type": "display_data",
          "data": {
            "text/plain": [
              "<IPython.core.display.HTML object>"
            ],
            "text/html": [
              "\n",
              "<style>\n",
              "    /* Turns off some styling */\n",
              "    progress {\n",
              "        /* gets rid of default border in Firefox and Opera. */\n",
              "        border: none;\n",
              "        /* Needs to be in here for Safari polyfill so background images work as expected. */\n",
              "        background-size: auto;\n",
              "    }\n",
              "    progress:not([value]), progress:not([value])::-webkit-progress-bar {\n",
              "        background: repeating-linear-gradient(45deg, #7e7e7e, #7e7e7e 10px, #5c5c5c 10px, #5c5c5c 20px);\n",
              "    }\n",
              "    .progress-bar-interrupted, .progress-bar-interrupted::-webkit-progress-bar {\n",
              "        background: #F44336;\n",
              "    }\n",
              "</style>\n"
            ]
          },
          "metadata": {}
        },
        {
          "output_type": "display_data",
          "data": {
            "text/plain": [
              "<IPython.core.display.HTML object>"
            ],
            "text/html": []
          },
          "metadata": {}
        }
      ]
    }
  ],
  "metadata": {
    "accelerator": "GPU",
    "colab": {
      "provenance": [],
      "collapsed_sections": [],
      "include_colab_link": true
    },
    "gpuClass": "standard",
    "kernelspec": {
      "display_name": "Python 3",
      "name": "python3"
    },
    "language_info": {
      "name": "python"
    },
    "widgets": {
      "application/vnd.jupyter.widget-state+json": {
        "c7f7b1d99f00427a8b353383e310e4c5": {
          "model_module": "@jupyter-widgets/controls",
          "model_name": "VBoxModel",
          "model_module_version": "1.5.0",
          "state": {
            "_dom_classes": [],
            "_model_module": "@jupyter-widgets/controls",
            "_model_module_version": "1.5.0",
            "_model_name": "VBoxModel",
            "_view_count": null,
            "_view_module": "@jupyter-widgets/controls",
            "_view_module_version": "1.5.0",
            "_view_name": "VBoxView",
            "box_style": "",
            "children": [
              "IPY_MODEL_dfc416f49e1f4dabb8778c441c093688",
              "IPY_MODEL_643520570775430685a4aacf2b200b2e",
              "IPY_MODEL_7c77fa3e7df44b2ea456e7790194e7e8",
              "IPY_MODEL_14350b909ec34752b08e672cd3fa008b",
              "IPY_MODEL_6eadbae378fe4da581d45ca8038a57a0"
            ],
            "layout": "IPY_MODEL_89b40e5d55974667b24a3b60897c4491"
          }
        },
        "dfc416f49e1f4dabb8778c441c093688": {
          "model_module": "@jupyter-widgets/controls",
          "model_name": "LabelModel",
          "model_module_version": "1.5.0",
          "state": {
            "_dom_classes": [],
            "_model_module": "@jupyter-widgets/controls",
            "_model_module_version": "1.5.0",
            "_model_name": "LabelModel",
            "_view_count": null,
            "_view_module": "@jupyter-widgets/controls",
            "_view_module_version": "1.5.0",
            "_view_name": "LabelView",
            "description": "",
            "description_tooltip": null,
            "layout": "IPY_MODEL_ce73378fe4bb4f5890f947df680480fc",
            "placeholder": "​",
            "style": "IPY_MODEL_6c329efff6664bbf8ebf5f0da4294287",
            "value": "Upload an image of the feline/canine you want to identify"
          }
        },
        "643520570775430685a4aacf2b200b2e": {
          "model_module": "@jupyter-widgets/controls",
          "model_name": "FileUploadModel",
          "model_module_version": "1.5.0",
          "state": {
            "_counter": 4,
            "_dom_classes": [],
            "_model_module": "@jupyter-widgets/controls",
            "_model_module_version": "1.5.0",
            "_model_name": "FileUploadModel",
            "_view_count": null,
            "_view_module": "@jupyter-widgets/controls",
            "_view_module_version": "1.5.0",
            "_view_name": "FileUploadView",
            "accept": "",
            "button_style": "",
            "data": [
              null
            ],
            "description": "Upload",
            "description_tooltip": null,
            "disabled": false,
            "error": "",
            "icon": "upload",
            "layout": "IPY_MODEL_7512e8ab1de14c8ea8787e82796690ed",
            "metadata": [
              {
                "name": "car2.jpg",
                "type": "image/jpeg",
                "size": 10989,
                "lastModified": 1667947359734
              }
            ],
            "multiple": false,
            "style": "IPY_MODEL_54a2f07dd73e4cbaaa832bf7411d7106"
          }
        },
        "7c77fa3e7df44b2ea456e7790194e7e8": {
          "model_module": "@jupyter-widgets/controls",
          "model_name": "ButtonModel",
          "model_module_version": "1.5.0",
          "state": {
            "_dom_classes": [],
            "_model_module": "@jupyter-widgets/controls",
            "_model_module_version": "1.5.0",
            "_model_name": "ButtonModel",
            "_view_count": null,
            "_view_module": "@jupyter-widgets/controls",
            "_view_module_version": "1.5.0",
            "_view_name": "ButtonView",
            "button_style": "",
            "description": "Classify",
            "disabled": false,
            "icon": "",
            "layout": "IPY_MODEL_6551d1be3cda4cea9cf6f2b45387081d",
            "style": "IPY_MODEL_6112ad602265401f88700f52f9925832",
            "tooltip": ""
          }
        },
        "14350b909ec34752b08e672cd3fa008b": {
          "model_module": "@jupyter-widgets/output",
          "model_name": "OutputModel",
          "model_module_version": "1.0.0",
          "state": {
            "_dom_classes": [],
            "_model_module": "@jupyter-widgets/output",
            "_model_module_version": "1.0.0",
            "_model_name": "OutputModel",
            "_view_count": null,
            "_view_module": "@jupyter-widgets/output",
            "_view_module_version": "1.0.0",
            "_view_name": "OutputView",
            "layout": "IPY_MODEL_34d215d2d2f741fc9c426f9cf97efab0",
            "msg_id": "",
            "outputs": [
              {
                "output_type": "display_data",
                "data": {
                  "text/plain": "<PIL.Image.Image image mode=RGB size=128x128>",
                  "image/png": "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\n"
                },
                "metadata": {}
              }
            ]
          }
        },
        "6eadbae378fe4da581d45ca8038a57a0": {
          "model_module": "@jupyter-widgets/controls",
          "model_name": "LabelModel",
          "model_module_version": "1.5.0",
          "state": {
            "_dom_classes": [],
            "_model_module": "@jupyter-widgets/controls",
            "_model_module_version": "1.5.0",
            "_model_name": "LabelModel",
            "_view_count": null,
            "_view_module": "@jupyter-widgets/controls",
            "_view_module_version": "1.5.0",
            "_view_name": "LabelView",
            "description": "",
            "description_tooltip": null,
            "layout": "IPY_MODEL_ee70e71bc320420b898d35331eb5ba64",
            "placeholder": "​",
            "style": "IPY_MODEL_21d4c33b107f4e63a4dcbb0153a1f975",
            "value": "Prediction: cat; Probability: 0.6877"
          }
        },
        "89b40e5d55974667b24a3b60897c4491": {
          "model_module": "@jupyter-widgets/base",
          "model_name": "LayoutModel",
          "model_module_version": "1.2.0",
          "state": {
            "_model_module": "@jupyter-widgets/base",
            "_model_module_version": "1.2.0",
            "_model_name": "LayoutModel",
            "_view_count": null,
            "_view_module": "@jupyter-widgets/base",
            "_view_module_version": "1.2.0",
            "_view_name": "LayoutView",
            "align_content": null,
            "align_items": null,
            "align_self": null,
            "border": null,
            "bottom": null,
            "display": null,
            "flex": null,
            "flex_flow": null,
            "grid_area": null,
            "grid_auto_columns": null,
            "grid_auto_flow": null,
            "grid_auto_rows": null,
            "grid_column": null,
            "grid_gap": null,
            "grid_row": null,
            "grid_template_areas": null,
            "grid_template_columns": null,
            "grid_template_rows": null,
            "height": null,
            "justify_content": null,
            "justify_items": null,
            "left": null,
            "margin": null,
            "max_height": null,
            "max_width": null,
            "min_height": null,
            "min_width": null,
            "object_fit": null,
            "object_position": null,
            "order": null,
            "overflow": null,
            "overflow_x": null,
            "overflow_y": null,
            "padding": null,
            "right": null,
            "top": null,
            "visibility": null,
            "width": null
          }
        },
        "ce73378fe4bb4f5890f947df680480fc": {
          "model_module": "@jupyter-widgets/base",
          "model_name": "LayoutModel",
          "model_module_version": "1.2.0",
          "state": {
            "_model_module": "@jupyter-widgets/base",
            "_model_module_version": "1.2.0",
            "_model_name": "LayoutModel",
            "_view_count": null,
            "_view_module": "@jupyter-widgets/base",
            "_view_module_version": "1.2.0",
            "_view_name": "LayoutView",
            "align_content": null,
            "align_items": null,
            "align_self": null,
            "border": null,
            "bottom": null,
            "display": null,
            "flex": null,
            "flex_flow": null,
            "grid_area": null,
            "grid_auto_columns": null,
            "grid_auto_flow": null,
            "grid_auto_rows": null,
            "grid_column": null,
            "grid_gap": null,
            "grid_row": null,
            "grid_template_areas": null,
            "grid_template_columns": null,
            "grid_template_rows": null,
            "height": null,
            "justify_content": null,
            "justify_items": null,
            "left": null,
            "margin": null,
            "max_height": null,
            "max_width": null,
            "min_height": null,
            "min_width": null,
            "object_fit": null,
            "object_position": null,
            "order": null,
            "overflow": null,
            "overflow_x": null,
            "overflow_y": null,
            "padding": null,
            "right": null,
            "top": null,
            "visibility": null,
            "width": null
          }
        },
        "6c329efff6664bbf8ebf5f0da4294287": {
          "model_module": "@jupyter-widgets/controls",
          "model_name": "DescriptionStyleModel",
          "model_module_version": "1.5.0",
          "state": {
            "_model_module": "@jupyter-widgets/controls",
            "_model_module_version": "1.5.0",
            "_model_name": "DescriptionStyleModel",
            "_view_count": null,
            "_view_module": "@jupyter-widgets/base",
            "_view_module_version": "1.2.0",
            "_view_name": "StyleView",
            "description_width": ""
          }
        },
        "7512e8ab1de14c8ea8787e82796690ed": {
          "model_module": "@jupyter-widgets/base",
          "model_name": "LayoutModel",
          "model_module_version": "1.2.0",
          "state": {
            "_model_module": "@jupyter-widgets/base",
            "_model_module_version": "1.2.0",
            "_model_name": "LayoutModel",
            "_view_count": null,
            "_view_module": "@jupyter-widgets/base",
            "_view_module_version": "1.2.0",
            "_view_name": "LayoutView",
            "align_content": null,
            "align_items": null,
            "align_self": null,
            "border": null,
            "bottom": null,
            "display": null,
            "flex": null,
            "flex_flow": null,
            "grid_area": null,
            "grid_auto_columns": null,
            "grid_auto_flow": null,
            "grid_auto_rows": null,
            "grid_column": null,
            "grid_gap": null,
            "grid_row": null,
            "grid_template_areas": null,
            "grid_template_columns": null,
            "grid_template_rows": null,
            "height": null,
            "justify_content": null,
            "justify_items": null,
            "left": null,
            "margin": null,
            "max_height": null,
            "max_width": null,
            "min_height": null,
            "min_width": null,
            "object_fit": null,
            "object_position": null,
            "order": null,
            "overflow": null,
            "overflow_x": null,
            "overflow_y": null,
            "padding": null,
            "right": null,
            "top": null,
            "visibility": null,
            "width": null
          }
        },
        "54a2f07dd73e4cbaaa832bf7411d7106": {
          "model_module": "@jupyter-widgets/controls",
          "model_name": "ButtonStyleModel",
          "model_module_version": "1.5.0",
          "state": {
            "_model_module": "@jupyter-widgets/controls",
            "_model_module_version": "1.5.0",
            "_model_name": "ButtonStyleModel",
            "_view_count": null,
            "_view_module": "@jupyter-widgets/base",
            "_view_module_version": "1.2.0",
            "_view_name": "StyleView",
            "button_color": null,
            "font_weight": ""
          }
        },
        "6551d1be3cda4cea9cf6f2b45387081d": {
          "model_module": "@jupyter-widgets/base",
          "model_name": "LayoutModel",
          "model_module_version": "1.2.0",
          "state": {
            "_model_module": "@jupyter-widgets/base",
            "_model_module_version": "1.2.0",
            "_model_name": "LayoutModel",
            "_view_count": null,
            "_view_module": "@jupyter-widgets/base",
            "_view_module_version": "1.2.0",
            "_view_name": "LayoutView",
            "align_content": null,
            "align_items": null,
            "align_self": null,
            "border": null,
            "bottom": null,
            "display": null,
            "flex": null,
            "flex_flow": null,
            "grid_area": null,
            "grid_auto_columns": null,
            "grid_auto_flow": null,
            "grid_auto_rows": null,
            "grid_column": null,
            "grid_gap": null,
            "grid_row": null,
            "grid_template_areas": null,
            "grid_template_columns": null,
            "grid_template_rows": null,
            "height": null,
            "justify_content": null,
            "justify_items": null,
            "left": null,
            "margin": null,
            "max_height": null,
            "max_width": null,
            "min_height": null,
            "min_width": null,
            "object_fit": null,
            "object_position": null,
            "order": null,
            "overflow": null,
            "overflow_x": null,
            "overflow_y": null,
            "padding": null,
            "right": null,
            "top": null,
            "visibility": null,
            "width": null
          }
        },
        "6112ad602265401f88700f52f9925832": {
          "model_module": "@jupyter-widgets/controls",
          "model_name": "ButtonStyleModel",
          "model_module_version": "1.5.0",
          "state": {
            "_model_module": "@jupyter-widgets/controls",
            "_model_module_version": "1.5.0",
            "_model_name": "ButtonStyleModel",
            "_view_count": null,
            "_view_module": "@jupyter-widgets/base",
            "_view_module_version": "1.2.0",
            "_view_name": "StyleView",
            "button_color": null,
            "font_weight": ""
          }
        },
        "ee70e71bc320420b898d35331eb5ba64": {
          "model_module": "@jupyter-widgets/base",
          "model_name": "LayoutModel",
          "model_module_version": "1.2.0",
          "state": {
            "_model_module": "@jupyter-widgets/base",
            "_model_module_version": "1.2.0",
            "_model_name": "LayoutModel",
            "_view_count": null,
            "_view_module": "@jupyter-widgets/base",
            "_view_module_version": "1.2.0",
            "_view_name": "LayoutView",
            "align_content": null,
            "align_items": null,
            "align_self": null,
            "border": null,
            "bottom": null,
            "display": null,
            "flex": null,
            "flex_flow": null,
            "grid_area": null,
            "grid_auto_columns": null,
            "grid_auto_flow": null,
            "grid_auto_rows": null,
            "grid_column": null,
            "grid_gap": null,
            "grid_row": null,
            "grid_template_areas": null,
            "grid_template_columns": null,
            "grid_template_rows": null,
            "height": null,
            "justify_content": null,
            "justify_items": null,
            "left": null,
            "margin": null,
            "max_height": null,
            "max_width": null,
            "min_height": null,
            "min_width": null,
            "object_fit": null,
            "object_position": null,
            "order": null,
            "overflow": null,
            "overflow_x": null,
            "overflow_y": null,
            "padding": null,
            "right": null,
            "top": null,
            "visibility": null,
            "width": null
          }
        },
        "21d4c33b107f4e63a4dcbb0153a1f975": {
          "model_module": "@jupyter-widgets/controls",
          "model_name": "DescriptionStyleModel",
          "model_module_version": "1.5.0",
          "state": {
            "_model_module": "@jupyter-widgets/controls",
            "_model_module_version": "1.5.0",
            "_model_name": "DescriptionStyleModel",
            "_view_count": null,
            "_view_module": "@jupyter-widgets/base",
            "_view_module_version": "1.2.0",
            "_view_name": "StyleView",
            "description_width": ""
          }
        },
        "34d215d2d2f741fc9c426f9cf97efab0": {
          "model_module": "@jupyter-widgets/base",
          "model_name": "LayoutModel",
          "model_module_version": "1.2.0",
          "state": {
            "_model_module": "@jupyter-widgets/base",
            "_model_module_version": "1.2.0",
            "_model_name": "LayoutModel",
            "_view_count": null,
            "_view_module": "@jupyter-widgets/base",
            "_view_module_version": "1.2.0",
            "_view_name": "LayoutView",
            "align_content": null,
            "align_items": null,
            "align_self": null,
            "border": null,
            "bottom": null,
            "display": null,
            "flex": null,
            "flex_flow": null,
            "grid_area": null,
            "grid_auto_columns": null,
            "grid_auto_flow": null,
            "grid_auto_rows": null,
            "grid_column": null,
            "grid_gap": null,
            "grid_row": null,
            "grid_template_areas": null,
            "grid_template_columns": null,
            "grid_template_rows": null,
            "height": null,
            "justify_content": null,
            "justify_items": null,
            "left": null,
            "margin": null,
            "max_height": null,
            "max_width": null,
            "min_height": null,
            "min_width": null,
            "object_fit": null,
            "object_position": null,
            "order": null,
            "overflow": null,
            "overflow_x": null,
            "overflow_y": null,
            "padding": null,
            "right": null,
            "top": null,
            "visibility": null,
            "width": null
          }
        }
      }
    }
  },
  "nbformat": 4,
  "nbformat_minor": 0
}
